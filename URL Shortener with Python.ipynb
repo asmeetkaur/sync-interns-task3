{
 "cells": [
  {
   "cell_type": "code",
   "execution_count": 1,
   "id": "8fe860bb",
   "metadata": {},
   "outputs": [],
   "source": [
    "import hashlib"
   ]
  },
  {
   "cell_type": "code",
   "execution_count": 2,
   "id": "2ba5926c",
   "metadata": {},
   "outputs": [],
   "source": [
    "class URLShortener:\n",
    "    def __init__(self):\n",
    "        self.url_mapping = {}\n",
    "\n",
    "    def shorten_url(self, original_url):\n",
    "        # Simulate hashing (replace with a secure hashing algorithm)\n",
    "        hash_value = hashlib.sha256(original_url.encode()).hexdigest()[:8]\n",
    "\n",
    "        # Store the mapping of the hash to the original URL\n",
    "        self.url_mapping[hash_value] = original_url\n",
    "\n",
    "        # Return the shortened URL\n",
    "        return f\"short.url/{hash_value}\"\n",
    "\n",
    "    def expand_url(self, short_url):\n",
    "        # Extract hash value from the short URL\n",
    "        hash_value = short_url.split('/')[-1]\n",
    "\n",
    "        # Retrieve the original URL from the mapping\n",
    "        original_url = self.url_mapping.get(hash_value, None)\n",
    "\n",
    "        return original_url"
   ]
  },
  {
   "cell_type": "code",
   "execution_count": 3,
   "id": "a25b462e",
   "metadata": {},
   "outputs": [
    {
     "name": "stdout",
     "output_type": "stream",
     "text": [
      "Original URL: https://www.example.com\n",
      "Shortened URL: short.url/cdb4d88d\n",
      "Expanded URL: https://www.example.com\n"
     ]
    }
   ],
   "source": [
    "# Create an instance of the URLShortener\n",
    "url_shortener = URLShortener()\n",
    "\n",
    "# Example: Shorten a URL\n",
    "original_url = \"https://www.example.com\"\n",
    "short_url = url_shortener.shorten_url(original_url)\n",
    "print(f\"Original URL: {original_url}\")\n",
    "print(f\"Shortened URL: {short_url}\")\n",
    "\n",
    "# Example: Expand a Short URL\n",
    "expanded_url = url_shortener.expand_url(short_url)\n",
    "print(f\"Expanded URL: {expanded_url}\")"
   ]
  },
  {
   "cell_type": "code",
   "execution_count": null,
   "id": "930b3fd8",
   "metadata": {},
   "outputs": [],
   "source": []
  }
 ],
 "metadata": {
  "kernelspec": {
   "display_name": "Python 3 (ipykernel)",
   "language": "python",
   "name": "python3"
  },
  "language_info": {
   "codemirror_mode": {
    "name": "ipython",
    "version": 3
   },
   "file_extension": ".py",
   "mimetype": "text/x-python",
   "name": "python",
   "nbconvert_exporter": "python",
   "pygments_lexer": "ipython3",
   "version": "3.11.5"
  }
 },
 "nbformat": 4,
 "nbformat_minor": 5
}
